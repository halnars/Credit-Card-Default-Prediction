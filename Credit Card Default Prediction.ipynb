{
 "cells": [
  {
   "cell_type": "markdown",
   "id": "b5cce97f",
   "metadata": {},
   "source": [
    "# Credit card default prediction"
   ]
  },
  {
   "cell_type": "code",
   "execution_count": 1,
   "id": "bfe1577b",
   "metadata": {
    "_cell_guid": "b1076dfc-b9ad-4769-8c92-a6c4dae69d19",
    "_kg_hide-input": true,
    "_uuid": "8f2839f25d086af736a60e9eeb907d3b93b6e0e5",
    "execution": {
     "iopub.execute_input": "2022-09-16T13:53:13.400486Z",
     "iopub.status.busy": "2022-09-16T13:53:13.399982Z",
     "iopub.status.idle": "2022-09-16T13:53:15.031926Z",
     "shell.execute_reply": "2022-09-16T13:53:15.030706Z"
    },
    "papermill": {
     "duration": 1.64175,
     "end_time": "2022-09-16T13:53:15.034898",
     "exception": false,
     "start_time": "2022-09-16T13:53:13.393148",
     "status": "completed"
    },
    "tags": []
   },
   "outputs": [],
   "source": [
    "import pandas as pd\n",
    "import numpy as np\n",
    "\n",
    "#Visualization\n",
    "import matplotlib as mpl\n",
    "import matplotlib.pyplot as plt\n",
    "import matplotlib.pylab as pylab\n",
    "import seaborn as sns\n",
    "from pandas.plotting import autocorrelation_plot\n",
    "\n",
    "# Machine Learning Phase\n",
    "import sklearn \n",
    "from sklearn.svm import SVC\n",
    "from sklearn.preprocessing import LabelEncoder\n",
    "from sklearn.preprocessing import StandardScaler\n",
    "from sklearn.preprocessing import MinMaxScaler\n",
    "from sklearn.ensemble import ExtraTreesClassifier\n",
    "from sklearn.pipeline import make_pipeline\n",
    "from sklearn.model_selection import GridSearchCV\n",
    "from sklearn.linear_model import LogisticRegression\n",
    "from sklearn.tree import DecisionTreeClassifier\n",
    "from sklearn.ensemble import RandomForestClassifier\n",
    "from sklearn.naive_bayes import GaussianNB\n",
    "from sklearn.neighbors import KNeighborsClassifier\n",
    "from sklearn.svm import SVC\n",
    "from sklearn.pipeline import Pipeline\n",
    "from sklearn.model_selection import train_test_split\n",
    "\n",
    "\n",
    "#Metrics Libraries\n",
    "from sklearn import metrics\n",
    "from sklearn.metrics import classification_report\n",
    "from sklearn.model_selection import cross_val_score\n",
    "from sklearn.metrics import accuracy_score\n",
    "from sklearn.metrics import confusion_matrix\n",
    "\n",
    "\n",
    "pd.set_option('display.max_columns', None)"
   ]
  },
  {
   "cell_type": "markdown",
   "id": "4bf5948b",
   "metadata": {
    "papermill": {
     "duration": 0.005064,
     "end_time": "2022-09-16T13:53:15.045549",
     "exception": false,
     "start_time": "2022-09-16T13:53:15.040485",
     "status": "completed"
    },
    "tags": []
   },
   "source": [
    "[back to top](#table-of-contents)\n",
    "<a id=\"2\"></a>\n",
    "## **<span style=\"color:#ffd514;\">2.Dataset Overview</span>**\n",
    "There were quite a lot of confusions in understanding the columns of the data which also had discrepancies as well. [The discussion thread](https://www.kaggle.com/datasets/uciml/default-of-credit-card-clients-dataset/discussion?sort=votes) for this dataset has helped in understanding this data better"
   ]
  },
  {
   "cell_type": "code",
   "execution_count": 2,
   "id": "ea458e27",
   "metadata": {
    "execution": {
     "iopub.execute_input": "2022-09-16T13:53:15.059238Z",
     "iopub.status.busy": "2022-09-16T13:53:15.058763Z",
     "iopub.status.idle": "2022-09-16T13:53:15.275252Z",
     "shell.execute_reply": "2022-09-16T13:53:15.274098Z"
    },
    "papermill": {
     "duration": 0.226328,
     "end_time": "2022-09-16T13:53:15.278003",
     "exception": false,
     "start_time": "2022-09-16T13:53:15.051675",
     "status": "completed"
    },
    "tags": []
   },
   "outputs": [
    {
     "data": {
      "text/html": [
       "<div>\n",
       "<style scoped>\n",
       "    .dataframe tbody tr th:only-of-type {\n",
       "        vertical-align: middle;\n",
       "    }\n",
       "\n",
       "    .dataframe tbody tr th {\n",
       "        vertical-align: top;\n",
       "    }\n",
       "\n",
       "    .dataframe thead th {\n",
       "        text-align: right;\n",
       "    }\n",
       "</style>\n",
       "<table border=\"1\" class=\"dataframe\">\n",
       "  <thead>\n",
       "    <tr style=\"text-align: right;\">\n",
       "      <th></th>\n",
       "      <th>ID</th>\n",
       "      <th>LIMIT_BAL</th>\n",
       "      <th>SEX</th>\n",
       "      <th>EDUCATION</th>\n",
       "      <th>MARRIAGE</th>\n",
       "      <th>AGE</th>\n",
       "      <th>PAY_0</th>\n",
       "      <th>PAY_2</th>\n",
       "      <th>PAY_3</th>\n",
       "      <th>PAY_4</th>\n",
       "      <th>PAY_5</th>\n",
       "      <th>PAY_6</th>\n",
       "      <th>BILL_AMT1</th>\n",
       "      <th>BILL_AMT2</th>\n",
       "      <th>BILL_AMT3</th>\n",
       "      <th>BILL_AMT4</th>\n",
       "      <th>BILL_AMT5</th>\n",
       "      <th>BILL_AMT6</th>\n",
       "      <th>PAY_AMT1</th>\n",
       "      <th>PAY_AMT2</th>\n",
       "      <th>PAY_AMT3</th>\n",
       "      <th>PAY_AMT4</th>\n",
       "      <th>PAY_AMT5</th>\n",
       "      <th>PAY_AMT6</th>\n",
       "      <th>default.payment.next.month</th>\n",
       "    </tr>\n",
       "  </thead>\n",
       "  <tbody>\n",
       "    <tr>\n",
       "      <th>0</th>\n",
       "      <td>1</td>\n",
       "      <td>20000.0</td>\n",
       "      <td>2</td>\n",
       "      <td>2</td>\n",
       "      <td>1</td>\n",
       "      <td>24</td>\n",
       "      <td>2</td>\n",
       "      <td>2</td>\n",
       "      <td>-1</td>\n",
       "      <td>-1</td>\n",
       "      <td>-2</td>\n",
       "      <td>-2</td>\n",
       "      <td>3913.0</td>\n",
       "      <td>3102.0</td>\n",
       "      <td>689.0</td>\n",
       "      <td>0.0</td>\n",
       "      <td>0.0</td>\n",
       "      <td>0.0</td>\n",
       "      <td>0.0</td>\n",
       "      <td>689.0</td>\n",
       "      <td>0.0</td>\n",
       "      <td>0.0</td>\n",
       "      <td>0.0</td>\n",
       "      <td>0.0</td>\n",
       "      <td>1</td>\n",
       "    </tr>\n",
       "    <tr>\n",
       "      <th>1</th>\n",
       "      <td>2</td>\n",
       "      <td>120000.0</td>\n",
       "      <td>2</td>\n",
       "      <td>2</td>\n",
       "      <td>2</td>\n",
       "      <td>26</td>\n",
       "      <td>-1</td>\n",
       "      <td>2</td>\n",
       "      <td>0</td>\n",
       "      <td>0</td>\n",
       "      <td>0</td>\n",
       "      <td>2</td>\n",
       "      <td>2682.0</td>\n",
       "      <td>1725.0</td>\n",
       "      <td>2682.0</td>\n",
       "      <td>3272.0</td>\n",
       "      <td>3455.0</td>\n",
       "      <td>3261.0</td>\n",
       "      <td>0.0</td>\n",
       "      <td>1000.0</td>\n",
       "      <td>1000.0</td>\n",
       "      <td>1000.0</td>\n",
       "      <td>0.0</td>\n",
       "      <td>2000.0</td>\n",
       "      <td>1</td>\n",
       "    </tr>\n",
       "    <tr>\n",
       "      <th>2</th>\n",
       "      <td>3</td>\n",
       "      <td>90000.0</td>\n",
       "      <td>2</td>\n",
       "      <td>2</td>\n",
       "      <td>2</td>\n",
       "      <td>34</td>\n",
       "      <td>0</td>\n",
       "      <td>0</td>\n",
       "      <td>0</td>\n",
       "      <td>0</td>\n",
       "      <td>0</td>\n",
       "      <td>0</td>\n",
       "      <td>29239.0</td>\n",
       "      <td>14027.0</td>\n",
       "      <td>13559.0</td>\n",
       "      <td>14331.0</td>\n",
       "      <td>14948.0</td>\n",
       "      <td>15549.0</td>\n",
       "      <td>1518.0</td>\n",
       "      <td>1500.0</td>\n",
       "      <td>1000.0</td>\n",
       "      <td>1000.0</td>\n",
       "      <td>1000.0</td>\n",
       "      <td>5000.0</td>\n",
       "      <td>0</td>\n",
       "    </tr>\n",
       "    <tr>\n",
       "      <th>3</th>\n",
       "      <td>4</td>\n",
       "      <td>50000.0</td>\n",
       "      <td>2</td>\n",
       "      <td>2</td>\n",
       "      <td>1</td>\n",
       "      <td>37</td>\n",
       "      <td>0</td>\n",
       "      <td>0</td>\n",
       "      <td>0</td>\n",
       "      <td>0</td>\n",
       "      <td>0</td>\n",
       "      <td>0</td>\n",
       "      <td>46990.0</td>\n",
       "      <td>48233.0</td>\n",
       "      <td>49291.0</td>\n",
       "      <td>28314.0</td>\n",
       "      <td>28959.0</td>\n",
       "      <td>29547.0</td>\n",
       "      <td>2000.0</td>\n",
       "      <td>2019.0</td>\n",
       "      <td>1200.0</td>\n",
       "      <td>1100.0</td>\n",
       "      <td>1069.0</td>\n",
       "      <td>1000.0</td>\n",
       "      <td>0</td>\n",
       "    </tr>\n",
       "    <tr>\n",
       "      <th>4</th>\n",
       "      <td>5</td>\n",
       "      <td>50000.0</td>\n",
       "      <td>1</td>\n",
       "      <td>2</td>\n",
       "      <td>1</td>\n",
       "      <td>57</td>\n",
       "      <td>-1</td>\n",
       "      <td>0</td>\n",
       "      <td>-1</td>\n",
       "      <td>0</td>\n",
       "      <td>0</td>\n",
       "      <td>0</td>\n",
       "      <td>8617.0</td>\n",
       "      <td>5670.0</td>\n",
       "      <td>35835.0</td>\n",
       "      <td>20940.0</td>\n",
       "      <td>19146.0</td>\n",
       "      <td>19131.0</td>\n",
       "      <td>2000.0</td>\n",
       "      <td>36681.0</td>\n",
       "      <td>10000.0</td>\n",
       "      <td>9000.0</td>\n",
       "      <td>689.0</td>\n",
       "      <td>679.0</td>\n",
       "      <td>0</td>\n",
       "    </tr>\n",
       "  </tbody>\n",
       "</table>\n",
       "</div>"
      ],
      "text/plain": [
       "   ID  LIMIT_BAL  SEX  EDUCATION  MARRIAGE  AGE  PAY_0  PAY_2  PAY_3  PAY_4  \\\n",
       "0   1    20000.0    2          2         1   24      2      2     -1     -1   \n",
       "1   2   120000.0    2          2         2   26     -1      2      0      0   \n",
       "2   3    90000.0    2          2         2   34      0      0      0      0   \n",
       "3   4    50000.0    2          2         1   37      0      0      0      0   \n",
       "4   5    50000.0    1          2         1   57     -1      0     -1      0   \n",
       "\n",
       "   PAY_5  PAY_6  BILL_AMT1  BILL_AMT2  BILL_AMT3  BILL_AMT4  BILL_AMT5  \\\n",
       "0     -2     -2     3913.0     3102.0      689.0        0.0        0.0   \n",
       "1      0      2     2682.0     1725.0     2682.0     3272.0     3455.0   \n",
       "2      0      0    29239.0    14027.0    13559.0    14331.0    14948.0   \n",
       "3      0      0    46990.0    48233.0    49291.0    28314.0    28959.0   \n",
       "4      0      0     8617.0     5670.0    35835.0    20940.0    19146.0   \n",
       "\n",
       "   BILL_AMT6  PAY_AMT1  PAY_AMT2  PAY_AMT3  PAY_AMT4  PAY_AMT5  PAY_AMT6  \\\n",
       "0        0.0       0.0     689.0       0.0       0.0       0.0       0.0   \n",
       "1     3261.0       0.0    1000.0    1000.0    1000.0       0.0    2000.0   \n",
       "2    15549.0    1518.0    1500.0    1000.0    1000.0    1000.0    5000.0   \n",
       "3    29547.0    2000.0    2019.0    1200.0    1100.0    1069.0    1000.0   \n",
       "4    19131.0    2000.0   36681.0   10000.0    9000.0     689.0     679.0   \n",
       "\n",
       "   default.payment.next.month  \n",
       "0                           1  \n",
       "1                           1  \n",
       "2                           0  \n",
       "3                           0  \n",
       "4                           0  "
      ]
     },
     "execution_count": 2,
     "metadata": {},
     "output_type": "execute_result"
    }
   ],
   "source": [
    "credit_card_data=pd.read_csv('../input/default-of-credit-card-clients-dataset/UCI_Credit_Card.csv')\n",
    "credit_card_data.head()"
   ]
  },
  {
   "cell_type": "code",
   "execution_count": 3,
   "id": "96f70cec",
   "metadata": {
    "execution": {
     "iopub.execute_input": "2022-09-16T13:53:15.291754Z",
     "iopub.status.busy": "2022-09-16T13:53:15.291356Z",
     "iopub.status.idle": "2022-09-16T13:53:15.321227Z",
     "shell.execute_reply": "2022-09-16T13:53:15.319807Z"
    },
    "papermill": {
     "duration": 0.039655,
     "end_time": "2022-09-16T13:53:15.323954",
     "exception": false,
     "start_time": "2022-09-16T13:53:15.284299",
     "status": "completed"
    },
    "tags": []
   },
   "outputs": [
    {
     "name": "stdout",
     "output_type": "stream",
     "text": [
      "<class 'pandas.core.frame.DataFrame'>\n",
      "RangeIndex: 30000 entries, 0 to 29999\n",
      "Data columns (total 25 columns):\n",
      " #   Column                      Non-Null Count  Dtype  \n",
      "---  ------                      --------------  -----  \n",
      " 0   ID                          30000 non-null  int64  \n",
      " 1   LIMIT_BAL                   30000 non-null  float64\n",
      " 2   SEX                         30000 non-null  int64  \n",
      " 3   EDUCATION                   30000 non-null  int64  \n",
      " 4   MARRIAGE                    30000 non-null  int64  \n",
      " 5   AGE                         30000 non-null  int64  \n",
      " 6   PAY_0                       30000 non-null  int64  \n",
      " 7   PAY_2                       30000 non-null  int64  \n",
      " 8   PAY_3                       30000 non-null  int64  \n",
      " 9   PAY_4                       30000 non-null  int64  \n",
      " 10  PAY_5                       30000 non-null  int64  \n",
      " 11  PAY_6                       30000 non-null  int64  \n",
      " 12  BILL_AMT1                   30000 non-null  float64\n",
      " 13  BILL_AMT2                   30000 non-null  float64\n",
      " 14  BILL_AMT3                   30000 non-null  float64\n",
      " 15  BILL_AMT4                   30000 non-null  float64\n",
      " 16  BILL_AMT5                   30000 non-null  float64\n",
      " 17  BILL_AMT6                   30000 non-null  float64\n",
      " 18  PAY_AMT1                    30000 non-null  float64\n",
      " 19  PAY_AMT2                    30000 non-null  float64\n",
      " 20  PAY_AMT3                    30000 non-null  float64\n",
      " 21  PAY_AMT4                    30000 non-null  float64\n",
      " 22  PAY_AMT5                    30000 non-null  float64\n",
      " 23  PAY_AMT6                    30000 non-null  float64\n",
      " 24  default.payment.next.month  30000 non-null  int64  \n",
      "dtypes: float64(13), int64(12)\n",
      "memory usage: 5.7 MB\n"
     ]
    }
   ],
   "source": [
    "credit_card_data.info()"
   ]
  },
  {
   "cell_type": "markdown",
   "id": "0b2ffba0",
   "metadata": {
    "papermill": {
     "duration": 0.005615,
     "end_time": "2022-09-16T13:53:15.335775",
     "exception": false,
     "start_time": "2022-09-16T13:53:15.330160",
     "status": "completed"
    },
    "tags": []
   },
   "source": [
    "[back to top](#table-of-contents)\n",
    "<a id=\"3\"></a>\n",
    "## **<span style=\"color:#ffd514;\">3.Visualization-EDA</span>**"
   ]
  },
  {
   "cell_type": "code",
   "execution_count": 4,
   "id": "2d807fe8",
   "metadata": {
    "execution": {
     "iopub.execute_input": "2022-09-16T13:53:15.349841Z",
     "iopub.status.busy": "2022-09-16T13:53:15.348733Z",
     "iopub.status.idle": "2022-09-16T13:53:16.071810Z",
     "shell.execute_reply": "2022-09-16T13:53:16.070550Z"
    },
    "papermill": {
     "duration": 0.732619,
     "end_time": "2022-09-16T13:53:16.074193",
     "exception": false,
     "start_time": "2022-09-16T13:53:15.341574",
     "status": "completed"
    },
    "tags": []
   },
   "outputs": [
    {
     "data": {
      "image/png": "[encoded data removed]",
      "text/plain": [
       "<Figure size 720x720 with 2 Axes>"
      ]
     },
     "metadata": {
      "needs_background": "light"
     },
     "output_type": "display_data"
    },
    {
     "data": {
      "image/png": "[encoded data removed]",
      "text/plain": [
       "<Figure size 720x720 with 2 Axes>"
      ]
     },
     "metadata": {},
     "output_type": "display_data"
    }
   ],
   "source": [
    "#Data preparation for EDA\n",
    "credit_card_data.rename(columns = {'default.payment.next.month':'default_payment_next_month'}, inplace = True)\n",
    "demographics_card=credit_card_data[['default_payment_next_month','SEX', 'EDUCATION', 'MARRIAGE', 'AGE']]\n",
    "numerical_card=credit_card_data[['LIMIT_BAL','PAY_0','PAY_2', 'PAY_3', 'PAY_4', 'PAY_5', 'PAY_6']]\n",
    "\n",
    "\n",
    "plt.figure(figsize = (15, 7))\n",
    "plt.style.use('seaborn-white')\n",
    "\n",
    "#Default payment category\n",
    "plt.subplot(221)\n",
    "sns.countplot(x=\"default_payment_next_month\", data=demographics_card, palette=\"Greens_d\",\n",
    "              order=demographics_card.default_payment_next_month.value_counts().index)\n",
    "fig = plt.gcf()\n",
    "fig.set_size_inches(10,10)\n",
    "\n",
    "\n",
    "#Gender category\n",
    "plt.subplot(222)\n",
    "ax=sns.countplot(x=\"SEX\", data=demographics_card, palette=\"Greens_d\",\n",
    "              order=demographics_card.SEX.value_counts().iloc[:10].index)\n",
    "fig = plt.gcf()\n",
    "fig.set_size_inches(10,10)\n",
    "ax.set_xticklabels(ax.get_xticklabels(), rotation=40, ha=\"right\")\n",
    "ax.set_xticklabels(ax.get_xticklabels(), fontsize=9)\n",
    "plt.tight_layout()\n",
    "plt.show()\n",
    "\n",
    "#Education category\n",
    "plt.subplot(223)\n",
    "sns.countplot(x=\"EDUCATION\", data=demographics_card, palette=\"Greens_d\",\n",
    "              order=demographics_card.EDUCATION.value_counts().index)\n",
    "fig = plt.gcf()\n",
    "fig.set_size_inches(10,10)\n",
    "\n",
    "#Marraige category\n",
    "plt.subplot(224)\n",
    "ax=sns.countplot(x=\"MARRIAGE\", data=demographics_card, palette=\"Greens_d\",\n",
    "              order=demographics_card.MARRIAGE.value_counts().iloc[:10].index)\n",
    "fig = plt.gcf()\n",
    "fig.set_size_inches(10,10)\n",
    "ax.set_xticklabels(ax.get_xticklabels(), rotation=40, ha=\"right\")\n",
    "ax.set_xticklabels(ax.get_xticklabels(), fontsize=9)\n",
    "plt.tight_layout()\n",
    "plt.show()"
   ]
  },
  {
   "cell_type": "markdown",
   "id": "de48ebd2",
   "metadata": {
    "papermill": {
     "duration": 0.006351,
     "end_time": "2022-09-16T13:53:16.087470",
     "exception": false,
     "start_time": "2022-09-16T13:53:16.081119",
     "status": "completed"
    },
    "tags": []
   },
   "source": [
    "### <span style=\"color:#ffd514;\">*Insights*<span>\n",
    "* The output feature 'default' will be skewed as there won't be many customers who defaults their debt\n",
    "* Most of the credit card users in dataset are from University and single\n",
    "* Female gender are highly populated in the dataset"
   ]
  },
  {
   "cell_type": "code",
   "execution_count": 5,
   "id": "85f9a068",
   "metadata": {
    "execution": {
     "iopub.execute_input": "2022-09-16T13:53:16.102580Z",
     "iopub.status.busy": "2022-09-16T13:53:16.102155Z",
     "iopub.status.idle": "2022-09-16T13:53:16.557128Z",
     "shell.execute_reply": "2022-09-16T13:53:16.556028Z"
    },
    "papermill": {
     "duration": 0.465538,
     "end_time": "2022-09-16T13:53:16.559700",
     "exception": false,
     "start_time": "2022-09-16T13:53:16.094162",
     "status": "completed"
    },
    "tags": []
   },
   "outputs": [
    {
     "name": "stderr",
     "output_type": "stream",
     "text": [
      "/opt/conda/lib/python3.7/site-packages/seaborn/distributions.py:2619: FutureWarning: `distplot` is a deprecated function and will be removed in a future version. Please adapt your code to use either `displot` (a figure-level function with similar flexibility) or `histplot` (an axes-level function for histograms).\n",
      "  warnings.warn(msg, FutureWarning)\n"
     ]
    },
    {
     "data": {
      "text/plain": [
       "<AxesSubplot:xlabel='LIMIT_BAL', ylabel='Density'>"
      ]
     },
     "execution_count": 5,
     "metadata": {},
     "output_type": "execute_result"
    },
    {
     "data": {
      "image/png": "[encoded data removed]",
      "text/plain": [
       "<Figure size 432x288 with 1 Axes>"
      ]
     },
     "metadata": {},
     "output_type": "display_data"
    }
   ],
   "source": [
    "sns.distplot(numerical_card['LIMIT_BAL'])"
   ]
  },
  {
   "cell_type": "markdown",
   "id": "5ca65668",
   "metadata": {
    "papermill": {
     "duration": 0.006789,
     "end_time": "2022-09-16T13:53:16.573787",
     "exception": false,
     "start_time": "2022-09-16T13:53:16.566998",
     "status": "completed"
    },
    "tags": []
   },
   "source": [
    "### <span style=\"color:#ffd514;\">*Insights*<span>\n",
    "The credit limit provided is right skewed since it is truth that issuers doesn't provide higher credit limit to all its customers "
   ]
  },
  {
   "cell_type": "markdown",
   "id": "56c694ca",
   "metadata": {
    "papermill": {
     "duration": 0.006752,
     "end_time": "2022-09-16T13:53:16.587736",
     "exception": false,
     "start_time": "2022-09-16T13:53:16.580984",
     "status": "completed"
    },
    "tags": []
   },
   "source": [
    "[back to top](#table-of-contents)\n",
    "<a id=\"4\"></a>\n",
    "## **<span style=\"color:#ffd514;\">4.Data Preparation</span>**"
   ]
  },
  {
   "cell_type": "code",
   "execution_count": 6,
   "id": "72316373",
   "metadata": {
    "execution": {
     "iopub.execute_input": "2022-09-16T13:53:16.603716Z",
     "iopub.status.busy": "2022-09-16T13:53:16.603320Z",
     "iopub.status.idle": "2022-09-16T13:53:16.619385Z",
     "shell.execute_reply": "2022-09-16T13:53:16.618238Z"
    },
    "papermill": {
     "duration": 0.027393,
     "end_time": "2022-09-16T13:53:16.622267",
     "exception": false,
     "start_time": "2022-09-16T13:53:16.594874",
     "status": "completed"
    },
    "tags": []
   },
   "outputs": [],
   "source": [
    "credit_card_data['payment_score']=credit_card_data['PAY_0']+credit_card_data['PAY_2']+credit_card_data['PAY_3']+credit_card_data['PAY_4']+credit_card_data['PAY_5']+credit_card_data['PAY_6']\n",
    "credit_card_data['bill_amt_score'] =credit_card_data['payment_score']*credit_card_data[['BILL_AMT1', 'BILL_AMT2','BILL_AMT3','BILL_AMT4','BILL_AMT5','BILL_AMT6']].mean(axis=1)"
   ]
  },
  {
   "cell_type": "code",
   "execution_count": 7,
   "id": "36b7256a",
   "metadata": {
    "execution": {
     "iopub.execute_input": "2022-09-16T13:53:16.638639Z",
     "iopub.status.busy": "2022-09-16T13:53:16.638223Z",
     "iopub.status.idle": "2022-09-16T13:53:16.663699Z",
     "shell.execute_reply": "2022-09-16T13:53:16.662377Z"
    },
    "papermill": {
     "duration": 0.03681,
     "end_time": "2022-09-16T13:53:16.666363",
     "exception": false,
     "start_time": "2022-09-16T13:53:16.629553",
     "status": "completed"
    },
    "tags": []
   },
   "outputs": [
    {
     "name": "stdout",
     "output_type": "stream",
     "text": [
      "Input Training: (24000, 14)\n",
      "Input Test: (6000, 14)\n",
      "Output Training: (24000,)\n",
      "Output Test: (6000,)\n"
     ]
    }
   ],
   "source": [
    "X=credit_card_data.drop(['PAY_0','PAY_2', 'PAY_3', 'PAY_4', 'PAY_5', 'PAY_6',\n",
    "                         'BILL_AMT1', 'BILL_AMT2','BILL_AMT3','BILL_AMT4','BILL_AMT5','BILL_AMT6',\n",
    "                         'default_payment_next_month'],axis=1)\n",
    "y=credit_card_data.default_payment_next_month\n",
    "\n",
    "\n",
    "X_train, X_test, y_train, y_test = train_test_split(X, y,train_size=0.8,random_state=1)\n",
    "print(\"Input Training:\",X_train.shape)\n",
    "print(\"Input Test:\",X_test.shape)\n",
    "print(\"Output Training:\",y_train.shape)\n",
    "print(\"Output Test:\",y_test.shape)"
   ]
  },
  {
   "cell_type": "markdown",
   "id": "1a83230b",
   "metadata": {
    "papermill": {
     "duration": 0.006858,
     "end_time": "2022-09-16T13:53:16.680473",
     "exception": false,
     "start_time": "2022-09-16T13:53:16.673615",
     "status": "completed"
    },
    "tags": []
   },
   "source": [
    "[back to top](#table-of-contents)\n",
    "<a id=\"5\"></a>\n",
    "## **<span style=\"color:#ffd514;\">5.Model Building and Evaluation</span>**"
   ]
  },
  {
   "cell_type": "code",
   "execution_count": 8,
   "id": "1f65b6b7",
   "metadata": {
    "execution": {
     "iopub.execute_input": "2022-09-16T13:53:16.698247Z",
     "iopub.status.busy": "2022-09-16T13:53:16.697114Z",
     "iopub.status.idle": "2022-09-16T13:54:20.246222Z",
     "shell.execute_reply": "2022-09-16T13:54:20.245015Z"
    },
    "papermill": {
     "duration": 63.568116,
     "end_time": "2022-09-16T13:54:20.255834",
     "exception": false,
     "start_time": "2022-09-16T13:53:16.687718",
     "status": "completed"
    },
    "tags": []
   },
   "outputs": [
    {
     "name": "stdout",
     "output_type": "stream",
     "text": [
      "Logistic Regression Test Accuracy: 0.7892083333333333\n",
      "Decision Tree Test Accuracy: 0.7150416666666667\n",
      "KNN Test Accuracy: 0.775625\n",
      "Naive Bayes Test Accuracy: 0.472125\n",
      "Random Forest Test Accuracy: 0.8076249999999998\n"
     ]
    }
   ],
   "source": [
    "#creating the objects\n",
    "logreg_cv = LogisticRegression(solver='liblinear',random_state=123)\n",
    "dt_cv=DecisionTreeClassifier(random_state=123)\n",
    "knn_cv=KNeighborsClassifier()\n",
    "nb_cv=GaussianNB()\n",
    "rf_cv=RandomForestClassifier(random_state=123)\n",
    "cv_dict = {0: 'Logistic Regression', 1: 'Decision Tree',2:'KNN',3:'Naive Bayes',4:'Random Forest'}\n",
    "cv_models=[logreg_cv,dt_cv,knn_cv,nb_cv,rf_cv]\n",
    "\n",
    "\n",
    "for i,model in enumerate(cv_models):\n",
    "    print(\"{} Test Accuracy: {}\".format(cv_dict[i],cross_val_score(model, X_train, y_train, cv=10, scoring ='accuracy').mean()))"
   ]
  },
  {
   "cell_type": "code",
   "execution_count": 9,
   "id": "1fc80223",
   "metadata": {
    "execution": {
     "iopub.execute_input": "2022-09-16T13:54:20.272746Z",
     "iopub.status.busy": "2022-09-16T13:54:20.272341Z",
     "iopub.status.idle": "2022-09-16T13:54:20.281354Z",
     "shell.execute_reply": "2022-09-16T13:54:20.280167Z"
    },
    "papermill": {
     "duration": 0.020482,
     "end_time": "2022-09-16T13:54:20.283854",
     "exception": false,
     "start_time": "2022-09-16T13:54:20.263372",
     "status": "completed"
    },
    "tags": []
   },
   "outputs": [
    {
     "name": "stdout",
     "output_type": "stream",
     "text": [
      "{'n_estimators': [10, 20, 30, 40, 50, 60, 70, 80, 90, 100], 'max_features': ['auto', 'sqrt'], 'max_depth': [10, 20, 30, 40, 50, 60, 70, 80, 90, 100, 110, None], 'min_samples_split': [2, 5, 10], 'min_samples_leaf': [1, 2, 4], 'bootstrap': [True, False]}\n"
     ]
    }
   ],
   "source": [
    "from sklearn.model_selection import RandomizedSearchCV\n",
    "# Number of trees in random forest\n",
    "n_estimators = [int(x) for x in np.linspace(start = 10, stop = 100, num = 10)]\n",
    "# Number of features to consider at every split\n",
    "max_features = ['auto', 'sqrt']\n",
    "# Maximum number of levels in tree\n",
    "max_depth = [int(x) for x in np.linspace(10, 110, num = 11)]\n",
    "max_depth.append(None)\n",
    "# Minimum number of samples required to split a node\n",
    "min_samples_split = [2, 5, 10]\n",
    "# Minimum number of samples required at each leaf node\n",
    "min_samples_leaf = [1, 2, 4]\n",
    "# Method of selecting samples for training each tree\n",
    "bootstrap = [True, False]\n",
    "# Create the random grid\n",
    "random_grid = {'n_estimators': n_estimators,\n",
    "               'max_features': max_features,\n",
    "               'max_depth': max_depth,\n",
    "               'min_samples_split': min_samples_split,\n",
    "               'min_samples_leaf': min_samples_leaf,\n",
    "               'bootstrap': bootstrap}\n",
    "print(random_grid)"
   ]
  },
  {
   "cell_type": "code",
   "execution_count": 10,
   "id": "d467363a",
   "metadata": {
    "execution": {
     "iopub.execute_input": "2022-09-16T13:54:20.301088Z",
     "iopub.status.busy": "2022-09-16T13:54:20.300405Z",
     "iopub.status.idle": "2022-09-16T13:54:35.260506Z",
     "shell.execute_reply": "2022-09-16T13:54:35.259148Z"
    },
    "papermill": {
     "duration": 14.971686,
     "end_time": "2022-09-16T13:54:35.263297",
     "exception": false,
     "start_time": "2022-09-16T13:54:20.291611",
     "status": "completed"
    },
    "tags": []
   },
   "outputs": [
    {
     "name": "stdout",
     "output_type": "stream",
     "text": [
      "Fitting 3 folds for each of 5 candidates, totalling 15 fits\n"
     ]
    },
    {
     "data": {
      "text/plain": [
       "RandomizedSearchCV(cv=3, estimator=RandomForestClassifier(), n_iter=5,\n",
       "                   n_jobs=-1,\n",
       "                   param_distributions={'bootstrap': [True, False],\n",
       "                                        'max_depth': [10, 20, 30, 40, 50, 60,\n",
       "                                                      70, 80, 90, 100, 110,\n",
       "                                                      None],\n",
       "                                        'max_features': ['auto', 'sqrt'],\n",
       "                                        'min_samples_leaf': [1, 2, 4],\n",
       "                                        'min_samples_split': [2, 5, 10],\n",
       "                                        'n_estimators': [10, 20, 30, 40, 50, 60,\n",
       "                                                         70, 80, 90, 100]},\n",
       "                   random_state=42, verbose=2)"
      ]
     },
     "execution_count": 10,
     "metadata": {},
     "output_type": "execute_result"
    }
   ],
   "source": [
    "# Use the random grid to search for best hyperparameters\n",
    "# First create the base model to tune\n",
    "rf = RandomForestClassifier()\n",
    "# Random search of parameters, using 3 fold cross validation, \n",
    "rf_random = RandomizedSearchCV(estimator = rf, param_distributions = random_grid, n_iter = 5, cv = 3, verbose=2, random_state=42, n_jobs = -1)\n",
    "# Fit the random search model\n",
    "rf_random.fit(X_train, y_train)"
   ]
  },
  {
   "cell_type": "code",
   "execution_count": 11,
   "id": "9c65441f",
   "metadata": {
    "execution": {
     "iopub.execute_input": "2022-09-16T13:54:35.281378Z",
     "iopub.status.busy": "2022-09-16T13:54:35.280932Z",
     "iopub.status.idle": "2022-09-16T13:54:35.288968Z",
     "shell.execute_reply": "2022-09-16T13:54:35.287708Z"
    },
    "papermill": {
     "duration": 0.019814,
     "end_time": "2022-09-16T13:54:35.291332",
     "exception": false,
     "start_time": "2022-09-16T13:54:35.271518",
     "status": "completed"
    },
    "tags": []
   },
   "outputs": [
    {
     "data": {
      "text/plain": [
       "{'n_estimators': 30,\n",
       " 'min_samples_split': 10,\n",
       " 'min_samples_leaf': 4,\n",
       " 'max_features': 'sqrt',\n",
       " 'max_depth': 90,\n",
       " 'bootstrap': False}"
      ]
     },
     "execution_count": 11,
     "metadata": {},
     "output_type": "execute_result"
    }
   ],
   "source": [
    "rf_random.best_params_"
   ]
  },
  {
   "cell_type": "code",
   "execution_count": 12,
   "id": "d4e53b9c",
   "metadata": {
    "execution": {
     "iopub.execute_input": "2022-09-16T13:54:35.309079Z",
     "iopub.status.busy": "2022-09-16T13:54:35.308397Z",
     "iopub.status.idle": "2022-09-16T13:54:39.672483Z",
     "shell.execute_reply": "2022-09-16T13:54:39.671130Z"
    },
    "papermill": {
     "duration": 4.376071,
     "end_time": "2022-09-16T13:54:39.675377",
     "exception": false,
     "start_time": "2022-09-16T13:54:35.299306",
     "status": "completed"
    },
    "tags": []
   },
   "outputs": [
    {
     "name": "stdout",
     "output_type": "stream",
     "text": [
      "Model Performance\n",
      "Average Error: 0.1937 degrees.\n",
      "Accuracy: 0.8063333333333333\n"
     ]
    }
   ],
   "source": [
    "def evaluate(model, X_test, y_test):\n",
    "    predictions = model.predict(X_test)\n",
    "    errors = abs(predictions - y_test)\n",
    "    mape = 100 * np.mean(errors / y_test)\n",
    "    accuracy = metrics.accuracy_score(y_test, predictions)\n",
    "    print('Model Performance')\n",
    "    print('Average Error: {:0.4f} degrees.'.format(np.mean(errors)))\n",
    "    print(\"Accuracy:\",accuracy)\n",
    "    \n",
    "    return accuracy\n",
    "base_model = RandomForestClassifier(n_estimators = 70, random_state = 42)\n",
    "base_model.fit(X_train, y_train)\n",
    "base_accuracy = evaluate(base_model, X_test, y_test)"
   ]
  },
  {
   "cell_type": "code",
   "execution_count": 13,
   "id": "1b9e7413",
   "metadata": {
    "execution": {
     "iopub.execute_input": "2022-09-16T13:54:39.693223Z",
     "iopub.status.busy": "2022-09-16T13:54:39.692782Z",
     "iopub.status.idle": "2022-09-16T13:54:39.754206Z",
     "shell.execute_reply": "2022-09-16T13:54:39.752918Z"
    },
    "papermill": {
     "duration": 0.073605,
     "end_time": "2022-09-16T13:54:39.757016",
     "exception": false,
     "start_time": "2022-09-16T13:54:39.683411",
     "status": "completed"
    },
    "tags": []
   },
   "outputs": [
    {
     "name": "stdout",
     "output_type": "stream",
     "text": [
      "Model Performance\n",
      "Average Error: 0.1920 degrees.\n",
      "Accuracy: 0.808\n"
     ]
    }
   ],
   "source": [
    "best_random = rf_random.best_estimator_\n",
    "random_accuracy = evaluate(best_random, X_test, y_test)"
   ]
  },
  {
   "cell_type": "code",
   "execution_count": 14,
   "id": "c6358cbe",
   "metadata": {
    "execution": {
     "iopub.execute_input": "2022-09-16T13:54:39.774562Z",
     "iopub.status.busy": "2022-09-16T13:54:39.774136Z",
     "iopub.status.idle": "2022-09-16T13:54:39.780069Z",
     "shell.execute_reply": "2022-09-16T13:54:39.778949Z"
    },
    "papermill": {
     "duration": 0.017685,
     "end_time": "2022-09-16T13:54:39.782704",
     "exception": false,
     "start_time": "2022-09-16T13:54:39.765019",
     "status": "completed"
    },
    "tags": []
   },
   "outputs": [
    {
     "name": "stdout",
     "output_type": "stream",
     "text": [
      "Improvement of 0.21%.\n"
     ]
    }
   ],
   "source": [
    "print('Improvement of {:0.2f}%.'.format( 100 * (random_accuracy - base_accuracy) / base_accuracy))"
   ]
  }
 ],
 "metadata": {
  "kernelspec": {
   "display_name": "Python 3 (ipykernel)",
   "language": "python",
   "name": "python3"
  },
  "language_info": {
   "codemirror_mode": {
    "name": "ipython",
    "version": 3
   },
   "file_extension": ".py",
   "mimetype": "text/x-python",
   "name": "python",
   "nbconvert_exporter": "python",
   "pygments_lexer": "ipython3",
   "version": "3.9.13"
  },
  "papermill": {
   "default_parameters": {},
   "duration": 98.593076,
   "end_time": "2022-09-16T13:54:42.415104",
   "environment_variables": {},
   "exception": null,
   "input_path": "__notebook__.ipynb",
   "output_path": "__notebook__.ipynb",
   "parameters": {},
   "start_time": "2022-09-16T13:53:03.822028",
   "version": "2.3.4"
  }
 },
 "nbformat": 4,
 "nbformat_minor": 5
}
